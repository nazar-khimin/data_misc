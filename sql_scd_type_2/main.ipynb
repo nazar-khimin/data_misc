{
 "cells": [
  {
   "cell_type": "code",
   "id": "initial_id",
   "metadata": {
    "collapsed": true,
    "ExecuteTime": {
     "end_time": "2025-07-20T13:14:25.789720Z",
     "start_time": "2025-07-20T13:14:25.771222Z"
    }
   },
   "source": [
    "import duckdb\n",
    "\n",
    "# Import jupysql Jupyter extension to create SQL cells\n",
    "%load_ext sql\n",
    "%config SqlMagic.autopandas = True\n",
    "%config SqlMagic.feedback = False\n",
    "%config SqlMagic.displaycon = False"
   ],
   "outputs": [
    {
     "name": "stdout",
     "output_type": "stream",
     "text": [
      "The sql extension is already loaded. To reload it, use:\n",
      "  %reload_ext sql\n"
     ]
    }
   ],
   "execution_count": 57
  },
  {
   "metadata": {
    "ExecuteTime": {
     "end_time": "2025-07-20T13:14:25.817877Z",
     "start_time": "2025-07-20T13:14:25.810657Z"
    }
   },
   "cell_type": "code",
   "source": [
    "%load_ext sql\n",
    "conn = duckdb.connect(database=\"data/scd_2.duckdb\")\n",
    "\n",
    "%sql conn --alias duckdb"
   ],
   "id": "a62f3a34bd4ee99e",
   "outputs": [
    {
     "name": "stdout",
     "output_type": "stream",
     "text": [
      "The sql extension is already loaded. To reload it, use:\n",
      "  %reload_ext sql\n"
     ]
    }
   ],
   "execution_count": 58
  },
  {
   "metadata": {
    "ExecuteTime": {
     "end_time": "2025-07-20T16:26:47.627113Z",
     "start_time": "2025-07-20T16:26:47.600884Z"
    }
   },
   "cell_type": "code",
   "source": [
    "%%sql\n",
    "drop table if exists delta;\n",
    "drop table if exists scd;"
   ],
   "id": "cab5d725c0d7e344",
   "outputs": [
    {
     "data": {
      "text/plain": [
       "Empty DataFrame\n",
       "Columns: [Success]\n",
       "Index: []"
      ],
      "text/html": [
       "<div>\n",
       "<style scoped>\n",
       "    .dataframe tbody tr th:only-of-type {\n",
       "        vertical-align: middle;\n",
       "    }\n",
       "\n",
       "    .dataframe tbody tr th {\n",
       "        vertical-align: top;\n",
       "    }\n",
       "\n",
       "    .dataframe thead th {\n",
       "        text-align: right;\n",
       "    }\n",
       "</style>\n",
       "<table border=\"1\" class=\"dataframe\">\n",
       "  <thead>\n",
       "    <tr style=\"text-align: right;\">\n",
       "      <th></th>\n",
       "      <th>Success</th>\n",
       "    </tr>\n",
       "  </thead>\n",
       "  <tbody>\n",
       "  </tbody>\n",
       "</table>\n",
       "</div>"
      ]
     },
     "execution_count": 69,
     "metadata": {},
     "output_type": "execute_result"
    }
   ],
   "execution_count": 69
  },
  {
   "metadata": {
    "ExecuteTime": {
     "end_time": "2025-07-20T13:14:25.880337Z",
     "start_time": "2025-07-20T13:14:25.868608Z"
    }
   },
   "cell_type": "code",
   "source": [
    "\n",
    "%%sql\n",
    "/* delta table creation */\n",
    "create or replace table delta as (\n",
    "  select 1 id, 190 val, timestamp'2022-06-15' fact_ts union all\n",
    "  select 1 id, 180 val, timestamp'2022-06-01' fact_ts union all\n",
    "  select 1, 18, timestamp'2022-06-01' union all        -- dup scd\n",
    "  select 1, 176, timestamp'2022-05-30' union all\n",
    "  select 1, 174, timestamp'2022-05-30' union all        -- dup delta\n",
    "  select 1, 172, timestamp'2022-05-28' union all\n",
    "  select 1, 16, timestamp'2022-05-24' union all         -- dup scd\n",
    "  select 1, 150, timestamp'2022-05-20' union all\n",
    "  select 1, 15, timestamp'2022-05-15' union all         -- dup scd\n",
    "  select 1, 145, timestamp'2022-05-13' union all\n",
    "  select 1, 140, timestamp'2022-05-01' union all\n",
    "  select 1, 120, timestamp'2022-04-01' union all\n",
    "  select 1, 12, timestamp'2022-04-01' union all\n",
    "  select 1, 100, timestamp'2022-03-01'\n",
    ");\n"
   ],
   "id": "2acf5cd141bd7675",
   "outputs": [
    {
     "data": {
      "text/plain": [
       "   Count\n",
       "0     14"
      ],
      "text/html": [
       "<div>\n",
       "<style scoped>\n",
       "    .dataframe tbody tr th:only-of-type {\n",
       "        vertical-align: middle;\n",
       "    }\n",
       "\n",
       "    .dataframe tbody tr th {\n",
       "        vertical-align: top;\n",
       "    }\n",
       "\n",
       "    .dataframe thead th {\n",
       "        text-align: right;\n",
       "    }\n",
       "</style>\n",
       "<table border=\"1\" class=\"dataframe\">\n",
       "  <thead>\n",
       "    <tr style=\"text-align: right;\">\n",
       "      <th></th>\n",
       "      <th>Count</th>\n",
       "    </tr>\n",
       "  </thead>\n",
       "  <tbody>\n",
       "    <tr>\n",
       "      <th>0</th>\n",
       "      <td>14</td>\n",
       "    </tr>\n",
       "  </tbody>\n",
       "</table>\n",
       "</div>"
      ]
     },
     "execution_count": 60,
     "metadata": {},
     "output_type": "execute_result"
    }
   ],
   "execution_count": 60
  },
  {
   "metadata": {
    "ExecuteTime": {
     "end_time": "2025-07-20T13:14:25.928576Z",
     "start_time": "2025-07-20T13:14:25.916434Z"
    }
   },
   "cell_type": "code",
   "source": [
    "%%sql\n",
    "# initial scd creation\n",
    "create or replace table scd as (\n",
    "select 1 id, 18 val, date'2022-06-01' effective_from, date'9999-12-31' effective_to, timestamp'2023-01-01' snapshot_update_ts union all\n",
    "select 1, 17 val, date'2022-05-26', date'2022-05-31', timestamp'2023-01-01' union all\n",
    "select 1, 16 val, date'2022-05-24', date'2022-05-25', timestamp'2023-01-01' union all\n",
    "select 1, 15 val, date'2022-05-15', date'2022-05-23', timestamp'2023-01-01' union all\n",
    "select 1, 14 val, date'2022-05-01', date'2022-05-14', timestamp'2023-01-01' union all\n",
    "select 1, 13 val, date'2022-04-15', date'2022-04-30', timestamp'2023-01-01' union all\n",
    "select 1, 12 val, date'2022-04-01', date'2022-04-14', timestamp'2023-01-01' union all\n",
    "select 1, 11 val, date'2022-03-15', date'2022-03-31', timestamp'2023-01-01' union all\n",
    "select 2, 22, date'2022-01-15', date'9999-12-31', timestamp'2023-01-01' union all\n",
    "select 3, 33, date'2022-01-15', date'9999-12-31', timestamp'2023-01-01'\n",
    ");"
   ],
   "id": "44b91d2e8d5813ca",
   "outputs": [
    {
     "data": {
      "text/plain": [
       "   Count\n",
       "0     10"
      ],
      "text/html": [
       "<div>\n",
       "<style scoped>\n",
       "    .dataframe tbody tr th:only-of-type {\n",
       "        vertical-align: middle;\n",
       "    }\n",
       "\n",
       "    .dataframe tbody tr th {\n",
       "        vertical-align: top;\n",
       "    }\n",
       "\n",
       "    .dataframe thead th {\n",
       "        text-align: right;\n",
       "    }\n",
       "</style>\n",
       "<table border=\"1\" class=\"dataframe\">\n",
       "  <thead>\n",
       "    <tr style=\"text-align: right;\">\n",
       "      <th></th>\n",
       "      <th>Count</th>\n",
       "    </tr>\n",
       "  </thead>\n",
       "  <tbody>\n",
       "    <tr>\n",
       "      <th>0</th>\n",
       "      <td>10</td>\n",
       "    </tr>\n",
       "  </tbody>\n",
       "</table>\n",
       "</div>"
      ]
     },
     "execution_count": 61,
     "metadata": {},
     "output_type": "execute_result"
    }
   ],
   "execution_count": 61
  },
  {
   "metadata": {},
   "cell_type": "markdown",
   "source": [
    "1063 min - 1M  \n",
    " 106 min - 10M  \n",
    "  35 min - 30M  \n",
    "  21 min - 50M  \n",
    "  11 min - 100M  \n",
    "   4 min - 300M  \n",
    "   2 min - 500M  \n",
    "   1 min - 1B  "
   ],
   "id": "5f31ed8ba7881e6c"
  },
  {
   "metadata": {
    "ExecuteTime": {
     "end_time": "2025-07-20T13:15:47.256787Z",
     "start_time": "2025-07-20T13:15:46.162583Z"
    }
   },
   "cell_type": "code",
   "source": [
    "%%sql\n",
    "-- client 1 history fulfilling\n",
    "insert into scd\n",
    "select 1, random()*10000+1, v::timestamp, v::timestamp + interval 106 minute - interval 1 second, timestamp'2023-11-11 23:11:11'\n",
    "from generate_series(timestamp'2022-03-15' - interval 106 minute, timestamp'1-1-1', interval '-106 minutes') t(v);"
   ],
   "id": "a77dd3afc9387d88",
   "outputs": [
    {
     "data": {
      "text/plain": [
       "      Count\n",
       "0  10028757"
      ],
      "text/html": [
       "<div>\n",
       "<style scoped>\n",
       "    .dataframe tbody tr th:only-of-type {\n",
       "        vertical-align: middle;\n",
       "    }\n",
       "\n",
       "    .dataframe tbody tr th {\n",
       "        vertical-align: top;\n",
       "    }\n",
       "\n",
       "    .dataframe thead th {\n",
       "        text-align: right;\n",
       "    }\n",
       "</style>\n",
       "<table border=\"1\" class=\"dataframe\">\n",
       "  <thead>\n",
       "    <tr style=\"text-align: right;\">\n",
       "      <th></th>\n",
       "      <th>Count</th>\n",
       "    </tr>\n",
       "  </thead>\n",
       "  <tbody>\n",
       "    <tr>\n",
       "      <th>0</th>\n",
       "      <td>10028757</td>\n",
       "    </tr>\n",
       "  </tbody>\n",
       "</table>\n",
       "</div>"
      ]
     },
     "execution_count": 63,
     "metadata": {},
     "output_type": "execute_result"
    }
   ],
   "execution_count": 63
  },
  {
   "metadata": {
    "ExecuteTime": {
     "end_time": "2025-07-20T13:15:53.493875Z",
     "start_time": "2025-07-20T13:15:51.400478Z"
    }
   },
   "cell_type": "code",
   "source": [
    "%%sql\n",
    "-- client 2,3 history fulfilling\n",
    "insert into scd\n",
    "select 2, random()*10000+1, v::timestamp, v::timestamp + interval 106 minute - interval 1 second, timestamp'2023-11-11 23:11:12'\n",
    "from generate_series(timestamp'2022-01-15' - interval 106 minute, timestamp'1-1-1', interval '-106 minutes') t(v);\n",
    "\n",
    "insert into scd\n",
    "select 3, random()*10000+1, v::timestamp, v::timestamp + interval 106 minute - interval 1 second, timestamp'2023-11-11 23:11:13'\n",
    "from generate_series(timestamp'2022-01-15' - interval 106 minute, timestamp'1-1-1', interval '-106 minutes') t(v);"
   ],
   "id": "1fdb756e22e184be",
   "outputs": [
    {
     "data": {
      "text/plain": [
       "      Count\n",
       "0  10027956"
      ],
      "text/html": [
       "<div>\n",
       "<style scoped>\n",
       "    .dataframe tbody tr th:only-of-type {\n",
       "        vertical-align: middle;\n",
       "    }\n",
       "\n",
       "    .dataframe tbody tr th {\n",
       "        vertical-align: top;\n",
       "    }\n",
       "\n",
       "    .dataframe thead th {\n",
       "        text-align: right;\n",
       "    }\n",
       "</style>\n",
       "<table border=\"1\" class=\"dataframe\">\n",
       "  <thead>\n",
       "    <tr style=\"text-align: right;\">\n",
       "      <th></th>\n",
       "      <th>Count</th>\n",
       "    </tr>\n",
       "  </thead>\n",
       "  <tbody>\n",
       "    <tr>\n",
       "      <th>0</th>\n",
       "      <td>10027956</td>\n",
       "    </tr>\n",
       "  </tbody>\n",
       "</table>\n",
       "</div>"
      ]
     },
     "execution_count": 64,
     "metadata": {},
     "output_type": "execute_result"
    }
   ],
   "execution_count": 64
  },
  {
   "metadata": {
    "ExecuteTime": {
     "end_time": "2025-07-20T13:16:11.932560Z",
     "start_time": "2025-07-20T13:15:55.881352Z"
    }
   },
   "cell_type": "code",
   "source": [
    "%%sql\n",
    "-- SCD: option 1-2. full recalc + dedupe delta only. NOT AN OPTION IN GENERAL\n",
    "\n",
    "-- explain analyze\n",
    "-- create or replace table scd as\n",
    "SELECT COUNT(1) FROM (\n",
    "  WITH combine_dedupe AS (\n",
    "    SELECT *\n",
    "    FROM delta\n",
    "    QUALIFY ROW_NUMBER() OVER (\n",
    "      PARTITION BY sha1(to_json((id, fact_ts)))\n",
    "      ORDER BY fact_ts\n",
    "    ) = 1\n",
    "\n",
    "    UNION DISTINCT\n",
    "\n",
    "    SELECT * EXCLUDE (effective_to, snapshot_update_ts)\n",
    "    FROM scd\n",
    "  )\n",
    "\n",
    "  SELECT\n",
    "    id,\n",
    "    val,\n",
    "    fact_ts AS effective_from,\n",
    "    IFNULL(\n",
    "      LEAD(fact_ts) OVER (\n",
    "        PARTITION BY sha1(to_json((id)))\n",
    "        ORDER BY fact_ts\n",
    "      ) - INTERVAL 1 SECOND,\n",
    "      DATE '9999-12-31 23:59:59'\n",
    "    ) AS effective_to,\n",
    "    CURRENT_TIMESTAMP AS snapshot_update_ts\n",
    "  FROM combine_dedupe\n",
    "  -- ORDER BY 1, 3 DESC\n",
    ");\n",
    "-- create scd\n"
   ],
   "id": "60b53ea0db0c200e",
   "outputs": [
    {
     "data": {
      "text/plain": [
       "Empty DataFrame\n",
       "Columns: [count(1)]\n",
       "Index: []"
      ],
      "text/html": [
       "<div>\n",
       "<style scoped>\n",
       "    .dataframe tbody tr th:only-of-type {\n",
       "        vertical-align: middle;\n",
       "    }\n",
       "\n",
       "    .dataframe tbody tr th {\n",
       "        vertical-align: top;\n",
       "    }\n",
       "\n",
       "    .dataframe thead th {\n",
       "        text-align: right;\n",
       "    }\n",
       "</style>\n",
       "<table border=\"1\" class=\"dataframe\">\n",
       "  <thead>\n",
       "    <tr style=\"text-align: right;\">\n",
       "      <th></th>\n",
       "      <th>count(1)</th>\n",
       "    </tr>\n",
       "  </thead>\n",
       "  <tbody>\n",
       "  </tbody>\n",
       "</table>\n",
       "</div>"
      ]
     },
     "execution_count": 65,
     "metadata": {},
     "output_type": "execute_result"
    }
   ],
   "execution_count": 65
  },
  {
   "metadata": {
    "ExecuteTime": {
     "end_time": "2025-07-20T13:16:20.309982Z",
     "start_time": "2025-07-20T13:16:20.141346Z"
    }
   },
   "cell_type": "code",
   "source": [
    "%%sql\n",
    "with\n",
    "range as (\n",
    "  select id, min(fact_ts) min_ts, max(fact_ts) max_ts\n",
    "  from delta group by all\n",
    ")\n",
    ",\n",
    "combine as (\n",
    "  select * from delta\n",
    "  union by name\n",
    "  select s.* exclude (snapshot_update_ts) rename (effective_from as fact_ts, effective_to as old_effective_to)\n",
    "  from scd s\n",
    "  join range r on s.id = r.id and s.effective_to >= r.min_ts\n",
    "  qualify row_number() over(partition by s.id order by if(s.effective_from > r.max_ts, 1, 0) desc, s.effective_from) = 1\n",
    "    or s.effective_from <= r.max_ts\n",
    ")\n",
    ",\n",
    "dedupe as (\n",
    "  select * from combine\n",
    "  qualify row_number() over (partition by sha1(to_json((\n",
    "    id, fact_ts\n",
    "  ))) order by fact_ts, old_effective_to) = 1\n",
    ")\n",
    "\n",
    "select * exclude(old_effective_to) rename(fact_ts as effective_from),\n",
    "  ifnull(lead(fact_ts) over (partition by id order by fact_ts) - interval 1 second, timestamp'9999-12-31 23:59:59') as effective_to,\n",
    "  current_timestamp as snapshot_update_ts\n",
    "from dedupe\n",
    "qualify effective_to <= ifnull(old_effective_to, timestamp'9999-12-31 23:59:59')\n",
    "order by 1, 3 desc"
   ],
   "id": "267093412f6daec5",
   "outputs": [
    {
     "data": {
      "text/plain": [
       "   id   val effective_from        effective_to  \\\n",
       "0   1   190     2022-06-15 9999-12-31 23:59:59   \n",
       "1   1    18     2022-06-01 2022-06-14 23:59:59   \n",
       "2   1   176     2022-05-30 2022-05-31 23:59:59   \n",
       "3   1   172     2022-05-28 2022-05-29 23:59:59   \n",
       "4   1    17     2022-05-26 2022-05-27 23:59:59   \n",
       "5   1   150     2022-05-20 2022-05-23 23:59:59   \n",
       "6   1    15     2022-05-15 2022-05-19 23:59:59   \n",
       "7   1   145     2022-05-13 2022-05-14 23:59:59   \n",
       "8   1    14     2022-05-01 2022-05-12 23:59:59   \n",
       "9   1  4513     2022-02-28 2022-02-28 23:59:59   \n",
       "\n",
       "                snapshot_update_ts  \n",
       "0 2025-07-20 16:16:20.241000+03:00  \n",
       "1 2025-07-20 16:16:20.241000+03:00  \n",
       "2 2025-07-20 16:16:20.241000+03:00  \n",
       "3 2025-07-20 16:16:20.241000+03:00  \n",
       "4 2025-07-20 16:16:20.241000+03:00  \n",
       "5 2025-07-20 16:16:20.241000+03:00  \n",
       "6 2025-07-20 16:16:20.241000+03:00  \n",
       "7 2025-07-20 16:16:20.241000+03:00  \n",
       "8 2025-07-20 16:16:20.241000+03:00  \n",
       "9 2025-07-20 16:16:20.241000+03:00  "
      ],
      "text/html": [
       "<div>\n",
       "<style scoped>\n",
       "    .dataframe tbody tr th:only-of-type {\n",
       "        vertical-align: middle;\n",
       "    }\n",
       "\n",
       "    .dataframe tbody tr th {\n",
       "        vertical-align: top;\n",
       "    }\n",
       "\n",
       "    .dataframe thead th {\n",
       "        text-align: right;\n",
       "    }\n",
       "</style>\n",
       "<table border=\"1\" class=\"dataframe\">\n",
       "  <thead>\n",
       "    <tr style=\"text-align: right;\">\n",
       "      <th></th>\n",
       "      <th>id</th>\n",
       "      <th>val</th>\n",
       "      <th>effective_from</th>\n",
       "      <th>effective_to</th>\n",
       "      <th>snapshot_update_ts</th>\n",
       "    </tr>\n",
       "  </thead>\n",
       "  <tbody>\n",
       "    <tr>\n",
       "      <th>0</th>\n",
       "      <td>1</td>\n",
       "      <td>190</td>\n",
       "      <td>2022-06-15</td>\n",
       "      <td>9999-12-31 23:59:59</td>\n",
       "      <td>2025-07-20 16:16:20.241000+03:00</td>\n",
       "    </tr>\n",
       "    <tr>\n",
       "      <th>1</th>\n",
       "      <td>1</td>\n",
       "      <td>18</td>\n",
       "      <td>2022-06-01</td>\n",
       "      <td>2022-06-14 23:59:59</td>\n",
       "      <td>2025-07-20 16:16:20.241000+03:00</td>\n",
       "    </tr>\n",
       "    <tr>\n",
       "      <th>2</th>\n",
       "      <td>1</td>\n",
       "      <td>176</td>\n",
       "      <td>2022-05-30</td>\n",
       "      <td>2022-05-31 23:59:59</td>\n",
       "      <td>2025-07-20 16:16:20.241000+03:00</td>\n",
       "    </tr>\n",
       "    <tr>\n",
       "      <th>3</th>\n",
       "      <td>1</td>\n",
       "      <td>172</td>\n",
       "      <td>2022-05-28</td>\n",
       "      <td>2022-05-29 23:59:59</td>\n",
       "      <td>2025-07-20 16:16:20.241000+03:00</td>\n",
       "    </tr>\n",
       "    <tr>\n",
       "      <th>4</th>\n",
       "      <td>1</td>\n",
       "      <td>17</td>\n",
       "      <td>2022-05-26</td>\n",
       "      <td>2022-05-27 23:59:59</td>\n",
       "      <td>2025-07-20 16:16:20.241000+03:00</td>\n",
       "    </tr>\n",
       "    <tr>\n",
       "      <th>5</th>\n",
       "      <td>1</td>\n",
       "      <td>150</td>\n",
       "      <td>2022-05-20</td>\n",
       "      <td>2022-05-23 23:59:59</td>\n",
       "      <td>2025-07-20 16:16:20.241000+03:00</td>\n",
       "    </tr>\n",
       "    <tr>\n",
       "      <th>6</th>\n",
       "      <td>1</td>\n",
       "      <td>15</td>\n",
       "      <td>2022-05-15</td>\n",
       "      <td>2022-05-19 23:59:59</td>\n",
       "      <td>2025-07-20 16:16:20.241000+03:00</td>\n",
       "    </tr>\n",
       "    <tr>\n",
       "      <th>7</th>\n",
       "      <td>1</td>\n",
       "      <td>145</td>\n",
       "      <td>2022-05-13</td>\n",
       "      <td>2022-05-14 23:59:59</td>\n",
       "      <td>2025-07-20 16:16:20.241000+03:00</td>\n",
       "    </tr>\n",
       "    <tr>\n",
       "      <th>8</th>\n",
       "      <td>1</td>\n",
       "      <td>14</td>\n",
       "      <td>2022-05-01</td>\n",
       "      <td>2022-05-12 23:59:59</td>\n",
       "      <td>2025-07-20 16:16:20.241000+03:00</td>\n",
       "    </tr>\n",
       "    <tr>\n",
       "      <th>9</th>\n",
       "      <td>1</td>\n",
       "      <td>4513</td>\n",
       "      <td>2022-02-28</td>\n",
       "      <td>2022-02-28 23:59:59</td>\n",
       "      <td>2025-07-20 16:16:20.241000+03:00</td>\n",
       "    </tr>\n",
       "  </tbody>\n",
       "</table>\n",
       "</div>"
      ]
     },
     "execution_count": 66,
     "metadata": {},
     "output_type": "execute_result"
    }
   ],
   "execution_count": 66
  },
  {
   "metadata": {
    "ExecuteTime": {
     "end_time": "2025-07-20T13:14:27.049073Z",
     "start_time": "2025-07-20T13:10:58.428533Z"
    }
   },
   "cell_type": "code",
   "source": "duckdb.close()",
   "id": "39d97ecc6f93e24f",
   "outputs": [],
   "execution_count": 56
  }
 ],
 "metadata": {
  "kernelspec": {
   "display_name": "Python 3",
   "language": "python",
   "name": "python3"
  },
  "language_info": {
   "codemirror_mode": {
    "name": "ipython",
    "version": 2
   },
   "file_extension": ".py",
   "mimetype": "text/x-python",
   "name": "python",
   "nbconvert_exporter": "python",
   "pygments_lexer": "ipython2",
   "version": "2.7.6"
  }
 },
 "nbformat": 4,
 "nbformat_minor": 5
}
