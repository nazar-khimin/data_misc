{
 "cells": [
  {
   "cell_type": "code",
   "id": "initial_id",
   "metadata": {
    "collapsed": true,
    "ExecuteTime": {
     "end_time": "2025-05-27T10:36:28.661780Z",
     "start_time": "2025-05-27T10:36:28.521385Z"
    }
   },
   "source": [
    "import duckdb\n",
    "\n",
    "con = duckdb.connect(database=\"data/scd_2.duckdb\")\n",
    "\n",
    "#  scd creation\n",
    "con.execute(\"\"\"\n",
    "    create or replace table scd as (\n",
    "         select 1 id, date'2022-06-01' effective_from, date'9999-12-31' effective_to, timestamp'2023-01-01' snapshot_update_ts union all\n",
    "         select 1, date'2022-05-26', date'2022-05-31', timestamp'2023-01-01' union all\n",
    "         select 1, date'2022-05-24', date'2022-05-25', timestamp'2023-01-01' union all\n",
    "         select 1, date'2022-05-15', date'2022-05-23', timestamp'2023-01-01' union all\n",
    "         select 1, date'2022-05-01', date'2022-05-14', timestamp'2023-01-01' union all\n",
    "         select 1, date'2022-04-15', date'2022-04-30', timestamp'2023-01-01' union all\n",
    "         select 1, date'2022-04-01', date'2022-04-14', timestamp'2023-01-01' union all\n",
    "         select 1, date'2022-03-15', date'2022-03-31', timestamp'2023-01-01' union all\n",
    "         select 2, date'2022-01-15', date'9999-12-31', timestamp'2023-01-01' union all\n",
    "         select 3, date'2022-01-15', date'9999-12-31', timestamp'2023-01-01'\n",
    "    );\n",
    "\"\"\")\n",
    "#   delta creation \n",
    "con.execute(\"\"\"\n",
    "    create or replace table delta as (\n",
    "         select 1 id, date'2022-06-15' fact_date union all\n",
    "         select 1, date'2022-06-01' union all\n",
    "         select 1, date'2022-05-30' union all\n",
    "         select 1, date'2022-05-30' union all\n",
    "         select 1, date'2022-05-28' union all\n",
    "         select 1, date'2022-05-20' union all\n",
    "         select 1, date'2022-05-13' union all\n",
    "         select 1, date'2022-05-13' union all\n",
    "         select 1, date'2022-04-01' union all\n",
    "         select 1, date'2022-03-01'\n",
    "    );\n",
    "\"\"\")"
   ],
   "outputs": [
    {
     "data": {
      "text/plain": [
       "<duckdb.duckdb.DuckDBPyConnection at 0x1073414b0>"
      ]
     },
     "execution_count": 1,
     "metadata": {},
     "output_type": "execute_result"
    }
   ],
   "execution_count": 1
  },
  {
   "metadata": {
    "ExecuteTime": {
     "end_time": "2025-05-27T10:36:28.675979Z",
     "start_time": "2025-05-27T10:36:28.674205Z"
    }
   },
   "cell_type": "code",
   "source": [
    "# insert data\n",
    "# con.execute(\"\"\"\n",
    "#     insert into scd\n",
    "#     select 1, v::date-1, v::date, current_timestamp\n",
    "#     from generate_series(date'2022-03-14', date'2022-03-04', interval '-1 days') t(v);\n",
    "# \"\"\")"
   ],
   "id": "a62f3a34bd4ee99e",
   "outputs": [],
   "execution_count": 2
  },
  {
   "metadata": {
    "ExecuteTime": {
     "end_time": "2025-05-27T10:36:28.699953Z",
     "start_time": "2025-05-27T10:36:28.686181Z"
    }
   },
   "cell_type": "code",
   "source": [
    "con.execute(\"\"\"\n",
    "    create or replace table scd_final as with\n",
    "     combine as (\n",
    "      select * from delta\n",
    "      union all\n",
    "      select * exclude (effective_to, snapshot_update_ts)\n",
    "      from scd\n",
    "     ),\n",
    "     dedupe as (\n",
    "      select * from combine\n",
    "      qualify row_number() over (partition by sha1(to_json((\n",
    "       id, fact_date\n",
    "      ))) order by fact_date) = 1\n",
    "     )\n",
    "     select\n",
    "      id,\n",
    "      fact_date as effective_from,\n",
    "      ifnull(lead(fact_date) over (\n",
    "       partition by sha1(to_json((\n",
    "        id\n",
    "       ))) order by fact_date) - 1,\n",
    "       date'9999-12-31'\n",
    "      ) as effective_to,\n",
    "      current_timestamp as snapshot_update_ts\n",
    "     from dedupe\n",
    ";\n",
    "\"\"\")"
   ],
   "id": "cab5d725c0d7e344",
   "outputs": [
    {
     "data": {
      "text/plain": [
       "<duckdb.duckdb.DuckDBPyConnection at 0x1073414b0>"
      ]
     },
     "execution_count": 3,
     "metadata": {},
     "output_type": "execute_result"
    }
   ],
   "execution_count": 3
  },
  {
   "metadata": {
    "ExecuteTime": {
     "end_time": "2025-05-27T10:36:28.793938Z",
     "start_time": "2025-05-27T10:36:28.792517Z"
    }
   },
   "cell_type": "code",
   "source": "",
   "id": "39d97ecc6f93e24f",
   "outputs": [],
   "execution_count": null
  }
 ],
 "metadata": {
  "kernelspec": {
   "display_name": "Python 3",
   "language": "python",
   "name": "python3"
  },
  "language_info": {
   "codemirror_mode": {
    "name": "ipython",
    "version": 2
   },
   "file_extension": ".py",
   "mimetype": "text/x-python",
   "name": "python",
   "nbconvert_exporter": "python",
   "pygments_lexer": "ipython2",
   "version": "2.7.6"
  }
 },
 "nbformat": 4,
 "nbformat_minor": 5
}
