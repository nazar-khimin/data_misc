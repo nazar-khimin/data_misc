{
 "cells": [
  {
   "cell_type": "code",
   "id": "initial_id",
   "metadata": {
    "collapsed": true,
    "ExecuteTime": {
     "end_time": "2025-05-27T11:27:13.195226Z",
     "start_time": "2025-05-27T11:27:13.153386Z"
    }
   },
   "source": [
    "import great_expectations as gx\n",
    "from sqlalchemy import text\n",
    "\n",
    "context = gx.get_context()\n",
    "\n",
    "context.data_sources.add_sql(\n",
    "    name=\"duckdb_datasource\",\n",
    "    connection_string=\"duckdb:///data/tmp/scd_2.duckdb\"\n",
    ")\n",
    "\n",
    "# Get the datasource and engine\n",
    "duckdb_ds = context.data_sources.get(\"duckdb_datasource\")\n",
    "engine = duckdb_ds.get_engine()\n",
    "\n",
    "# See available tables\n",
    "with engine.connect() as connection:\n",
    "    result = connection.execute(text(\"SHOW TABLES\"))\n",
    "    tables = result.fetchall()\n",
    "print(tables)"
   ],
   "outputs": [
    {
     "name": "stdout",
     "output_type": "stream",
     "text": [
      "[('delta',), ('scd',)]\n"
     ]
    }
   ],
   "execution_count": 21
  },
  {
   "metadata": {},
   "cell_type": "code",
   "outputs": [],
   "execution_count": null,
   "source": "",
   "id": "1fa58ee7d2d9a48a"
  }
 ],
 "metadata": {
  "kernelspec": {
   "display_name": "Python 3",
   "language": "python",
   "name": "python3"
  },
  "language_info": {
   "codemirror_mode": {
    "name": "ipython",
    "version": 2
   },
   "file_extension": ".py",
   "mimetype": "text/x-python",
   "name": "python",
   "nbconvert_exporter": "python",
   "pygments_lexer": "ipython2",
   "version": "2.7.6"
  }
 },
 "nbformat": 4,
 "nbformat_minor": 5
}
