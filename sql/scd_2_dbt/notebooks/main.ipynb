{
 "cells": [
  {
   "cell_type": "code",
   "id": "initial_id",
   "metadata": {
    "collapsed": true,
    "ExecuteTime": {
     "end_time": "2025-07-20T12:22:44.030028Z",
     "start_time": "2025-07-20T12:22:44.011655Z"
    }
   },
   "source": [
    "import duckdb\n",
    "\n",
    "# Import jupysql Jupyter extension to create SQL cells\n",
    "%load_ext sql\n",
    "%config SqlMagic.autopandas = True\n",
    "%config SqlMagic.feedback = False\n",
    "%config SqlMagic.displaycon = False"
   ],
   "outputs": [
    {
     "name": "stdout",
     "output_type": "stream",
     "text": [
      "The sql extension is already loaded. To reload it, use:\n",
      "  %reload_ext sql\n"
     ]
    }
   ],
   "execution_count": 3
  },
  {
   "metadata": {
    "ExecuteTime": {
     "end_time": "2025-07-20T12:22:44.141264Z",
     "start_time": "2025-07-20T12:22:44.109645Z"
    }
   },
   "cell_type": "code",
   "source": "con = duckdb.connect(database=\"../data/scd_2.duckdb\")",
   "id": "a62f3a34bd4ee99e",
   "outputs": [
    {
     "ename": "IOException",
     "evalue": "IO Error: The file \"/Users/nkhimin/Projects/data_misc/sql/scd_2_dbt/notebooks/../data/scd_2.duckdb\" exists, but it is not a valid DuckDB database file!",
     "output_type": "error",
     "traceback": [
      "\u001B[0;31m---------------------------------------------------------------------------\u001B[0m",
      "\u001B[0;31mIOException\u001B[0m                               Traceback (most recent call last)",
      "Cell \u001B[0;32mIn[4], line 1\u001B[0m\n\u001B[0;32m----> 1\u001B[0m con \u001B[38;5;241m=\u001B[39m \u001B[43mduckdb\u001B[49m\u001B[38;5;241;43m.\u001B[39;49m\u001B[43mconnect\u001B[49m\u001B[43m(\u001B[49m\u001B[43mdatabase\u001B[49m\u001B[38;5;241;43m=\u001B[39;49m\u001B[38;5;124;43m\"\u001B[39;49m\u001B[38;5;124;43m../data/scd_2.duckdb\u001B[39;49m\u001B[38;5;124;43m\"\u001B[39;49m\u001B[43m)\u001B[49m\n",
      "\u001B[0;31mIOException\u001B[0m: IO Error: The file \"/Users/nkhimin/Projects/data_misc/sql/scd_2_dbt/notebooks/../data/scd_2.duckdb\" exists, but it is not a valid DuckDB database file!"
     ]
    }
   ],
   "execution_count": 4
  },
  {
   "metadata": {
    "ExecuteTime": {
     "end_time": "2025-07-20T12:22:44.209791Z",
     "start_time": "2025-05-27T11:53:51.849173Z"
    }
   },
   "cell_type": "code",
   "source": "%sql SELECT 'Off and flying!' as a_duckdb_column",
   "id": "cab5d725c0d7e344",
   "outputs": [
    {
     "data": {
      "text/plain": [
       "<duckdb.duckdb.DuckDBPyConnection at 0x108ceccb0>"
      ]
     },
     "execution_count": 4,
     "metadata": {},
     "output_type": "execute_result"
    }
   ],
   "execution_count": 4
  },
  {
   "metadata": {
    "ExecuteTime": {
     "end_time": "2025-07-20T12:22:44.210271Z",
     "start_time": "2025-05-27T12:12:40.770467Z"
    }
   },
   "cell_type": "code",
   "source": "duckdb.close()",
   "id": "39d97ecc6f93e24f",
   "outputs": [],
   "execution_count": 5
  }
 ],
 "metadata": {
  "kernelspec": {
   "display_name": "Python 3",
   "language": "python",
   "name": "python3"
  },
  "language_info": {
   "codemirror_mode": {
    "name": "ipython",
    "version": 2
   },
   "file_extension": ".py",
   "mimetype": "text/x-python",
   "name": "python",
   "nbconvert_exporter": "python",
   "pygments_lexer": "ipython2",
   "version": "2.7.6"
  }
 },
 "nbformat": 4,
 "nbformat_minor": 5
}
